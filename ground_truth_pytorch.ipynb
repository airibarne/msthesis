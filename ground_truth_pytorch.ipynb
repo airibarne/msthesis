{
 "cells": [
  {
   "cell_type": "code",
   "execution_count": 1,
   "metadata": {},
   "outputs": [],
   "source": [
    "import numpy as np\n",
    "import torch as t\n",
    "from mrftools import *"
   ]
  },
  {
   "cell_type": "code",
   "execution_count": 68,
   "metadata": {},
   "outputs": [],
   "source": [
    "N = 25\n",
    "lmb = 10\n",
    "r_s = -5\n",
    "r_h = -2\n",
    "\n",
    "\n",
    "# uncontrolled dynamics\n",
    "def phi_q(x1, x2):\n",
    "    x1_x, x1_y = x1\n",
    "    x2_x, x2_y = x2\n",
    "    ind = ((x2_x == x1_x) and (x2_y == x1_y)) or \\\n",
    "            (x2_x == x1_x - 1) and (x2_y == x1_y) and (x1_x > 0) or \\\n",
    "            (x2_x == x1_x) and (x2_y == x1_y - 1) and (x1_y > 0) or \\\n",
    "            (x2_x == x1_x + 1) and (x2_y == x1_y) and (x1_x < np.sqrt(N)) or \\\n",
    "            (x2_x == x1_x) and (x2_y == x1_y + 1) and (x1_y < np.sqrt(N))\n",
    "    return 1 if ind else 0\n",
    "\n",
    "# from index in {0,...,N-1} to position (x,y) in {1,...,sqrt(N)}^2\n",
    "def get_pos(index, N):\n",
    "    index = index + 1 \n",
    "    r = np.remainder(index, np.sqrt(N))\n",
    "    if r == 0:\n",
    "        x = np.sqrt(N)\n",
    "        y = index // np.sqrt(N)\n",
    "    else:\n",
    "        x = r\n",
    "        y = index // np.sqrt(N) + 1\n",
    "    return x, y\n",
    "\n",
    "# build uncontrolled dynamics matrix factor\n",
    "phi_q_factor = t.zeros((N, N))\n",
    "for i in range(N):\n",
    "    for j in range(N):\n",
    "        phi_q_factor[i, j] = phi_q(get_pos(i, N), get_pos(j, N))\n",
    "\n",
    "mn = TorchMarkovNet(is_cuda=False, var_on=False)\n",
    "\n",
    "factor = -float('inf')*t.ones(N)\n",
    "factor[1] = 1\n",
    "mn.set_unary_factor('x11', factor)\n",
    "\n",
    "factor = -float('inf')*t.ones(N)\n",
    "factor[14] = 1\n",
    "mn.set_unary_factor('x12', factor)\n",
    "\n",
    "mn.set_unary_factor('x21', t.ones(N))\n",
    "mn.set_unary_factor('x31', t.ones(N))\n",
    "mn.set_unary_factor('x22', t.ones(N))\n",
    "mn.set_unary_factor('x32', t.ones(N))\n",
    "\n",
    "r_hare = np.exp(-(r_h/lmb))\n",
    "factor_h = t.ones(N)\n",
    "factor_h[0] = r_hare\n",
    "factor_h[4] = r_hare\n",
    "factor_h[20] = r_hare\n",
    "factor_h[24] = r_hare\n",
    "mn.set_unary_factor('x41', factor_h)\n",
    "mn.set_unary_factor('x42', factor_h)\n",
    "\n",
    "\n",
    "mn.set_edge_factor(('x11', 'x21'), phi_q_factor)\n",
    "mn.set_edge_factor(('x21', 'x31'), phi_q_factor)\n",
    "mn.set_edge_factor(('x31', 'x41'), phi_q_factor)\n",
    "mn.set_edge_factor(('x12', 'x22'), phi_q_factor)\n",
    "mn.set_edge_factor(('x22', 'x32'), phi_q_factor)\n",
    "mn.set_edge_factor(('x32', 'x42'), phi_q_factor)\n",
    "\n",
    "\n",
    "r_stag = np.exp(-(r_s/lmb))\n",
    "factor_s = t.ones((N, N))\n",
    "factor_s[(12,12)] = r_stag\n",
    "mn.set_edge_factor(('x41', 'x42'), factor_s)\n",
    "\n",
    "bp = TorchMatrixBeliefPropagator(mn, is_cuda=False, var_on=True)"
   ]
  },
  {
   "cell_type": "code",
   "execution_count": 119,
   "metadata": {},
   "outputs": [],
   "source": [
    "res_try_mat2 = t.tensor([1.75064451, 1.49727762, 1.38283992, 1.24779407, 0.28323888], dtype=t.float64)"
   ]
  },
  {
   "cell_type": "code",
   "execution_count": 120,
   "metadata": {},
   "outputs": [],
   "source": [
    "ins_try_mat2 = t.tensor([[1.62434536, -2.50015019, -3.89192232, -0.98001738, -1.7067365],\n",
    "                                 [-1.37513475, 1.47182113, -2.63786005, -float('inf'), -float('inf')],\n",
    "                                 [-1.72311984, -float('inf'), 1.29355548, -float('inf'), -2.9843092],\n",
    "                                 [-float('inf'), -float('inf'), -4.25291378, -float('inf'), -1.37131876],\n",
    "                                 [-float('inf'), -float('inf'), -1.56686887, -float('inf'), -float('inf')]],\n",
    "                                dtype=t.float64)"
   ]
  },
  {
   "cell_type": "code",
   "execution_count": 121,
   "metadata": {},
   "outputs": [
    {
     "data": {
      "text/plain": [
       "array([[ 1.70591277,  1.49048219,  1.37638705, -0.98001738, -0.72195103]])"
      ]
     },
     "execution_count": 121,
     "metadata": {},
     "output_type": "execute_result"
    }
   ],
   "source": [
    "logsumexp(ins_try_mat2.numpy(), dim=0)"
   ]
  },
  {
   "cell_type": "code",
   "execution_count": null,
   "metadata": {},
   "outputs": [],
   "source": []
  },
  {
   "cell_type": "code",
   "execution_count": null,
   "metadata": {},
   "outputs": [],
   "source": []
  },
  {
   "cell_type": "code",
   "execution_count": null,
   "metadata": {},
   "outputs": [],
   "source": []
  },
  {
   "cell_type": "code",
   "execution_count": null,
   "metadata": {},
   "outputs": [],
   "source": []
  },
  {
   "cell_type": "code",
   "execution_count": null,
   "metadata": {},
   "outputs": [],
   "source": []
  }
 ],
 "metadata": {
  "kernelspec": {
   "display_name": "Python 3",
   "language": "python",
   "name": "python3"
  },
  "language_info": {
   "codemirror_mode": {
    "name": "ipython",
    "version": 3
   },
   "file_extension": ".py",
   "mimetype": "text/x-python",
   "name": "python",
   "nbconvert_exporter": "python",
   "pygments_lexer": "ipython3",
   "version": "3.7.3"
  }
 },
 "nbformat": 4,
 "nbformat_minor": 2
}
